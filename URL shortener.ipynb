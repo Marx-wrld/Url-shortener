{
 "cells": [
  {
   "cell_type": "code",
   "execution_count": 5,
   "id": "fb2b6fb6",
   "metadata": {},
   "outputs": [
    {
     "name": "stdout",
     "output_type": "stream",
     "text": [
      "Requirement already satisfied: pyshorteners in c:\\users\\marx\\anaconda3\\lib\\site-packages (1.0.1)\n",
      "Requirement already satisfied: requests in c:\\users\\marx\\anaconda3\\lib\\site-packages (from pyshorteners) (2.26.0)\n",
      "Requirement already satisfied: certifi>=2017.4.17 in c:\\users\\marx\\anaconda3\\lib\\site-packages (from requests->pyshorteners) (2021.10.8)\n",
      "Requirement already satisfied: urllib3<1.27,>=1.21.1 in c:\\users\\marx\\anaconda3\\lib\\site-packages (from requests->pyshorteners) (1.26.7)\n",
      "Requirement already satisfied: charset-normalizer~=2.0.0 in c:\\users\\marx\\anaconda3\\lib\\site-packages (from requests->pyshorteners) (2.0.4)\n",
      "Requirement already satisfied: idna<4,>=2.5 in c:\\users\\marx\\anaconda3\\lib\\site-packages (from requests->pyshorteners) (3.2)\n",
      "Note: you may need to restart the kernel to use updated packages.\n"
     ]
    }
   ],
   "source": [
    "pip install pyshorteners"
   ]
  },
  {
   "cell_type": "code",
   "execution_count": 7,
   "id": "8f40da0c",
   "metadata": {},
   "outputs": [],
   "source": [
    "import pyshorteners"
   ]
  },
  {
   "cell_type": "code",
   "execution_count": 8,
   "id": "7a9b9393",
   "metadata": {},
   "outputs": [
    {
     "name": "stdout",
     "output_type": "stream",
     "text": [
      "Enter the URL to shorten: https://www.clcoding.com/p/python.html\n",
      "The shortened URL is: https://tinyurl.com/2zb6hedv\n"
     ]
    }
   ],
   "source": [
    "long_url = input(\"Enter the URL to shorten: \")\n",
    "\n",
    "##tinyURL shortener service\n",
    "type_tiny = pyshorteners.Shortener()\n",
    "short_url = type_tiny.tinyurl.short(long_url)\n",
    "\n",
    "print(\"The shortened URL is: \" + short_url)"
   ]
  },
  {
   "cell_type": "code",
   "execution_count": null,
   "id": "76d80bc9",
   "metadata": {},
   "outputs": [],
   "source": []
  }
 ],
 "metadata": {
  "kernelspec": {
   "display_name": "Python 3 (ipykernel)",
   "language": "python",
   "name": "python3"
  },
  "language_info": {
   "codemirror_mode": {
    "name": "ipython",
    "version": 3
   },
   "file_extension": ".py",
   "mimetype": "text/x-python",
   "name": "python",
   "nbconvert_exporter": "python",
   "pygments_lexer": "ipython3",
   "version": "3.9.7"
  }
 },
 "nbformat": 4,
 "nbformat_minor": 5
}
